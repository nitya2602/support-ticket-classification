{
 "cells": [
  {
   "cell_type": "code",
   "execution_count": 172,
   "metadata": {},
   "outputs": [],
   "source": [
    "import pandas as pd\n",
    "from pandas import ExcelWriter\n",
    "from pandas import ExcelFile\n",
    "import matplotlib.pyplot as plt\n",
    "from io import StringIO\n",
    "from sklearn.feature_extraction.text import TfidfVectorizer\n",
    "from sklearn.feature_selection import chi2\n",
    "import numpy as np"
   ]
  },
  {
   "cell_type": "code",
   "execution_count": 173,
   "metadata": {},
   "outputs": [
    {
     "data": {
      "text/html": [
       "<div>\n",
       "<style scoped>\n",
       "    .dataframe tbody tr th:only-of-type {\n",
       "        vertical-align: middle;\n",
       "    }\n",
       "\n",
       "    .dataframe tbody tr th {\n",
       "        vertical-align: top;\n",
       "    }\n",
       "\n",
       "    .dataframe thead th {\n",
       "        text-align: right;\n",
       "    }\n",
       "</style>\n",
       "<table border=\"1\" class=\"dataframe\">\n",
       "  <thead>\n",
       "    <tr style=\"text-align: right;\">\n",
       "      <th></th>\n",
       "      <th>Classifications</th>\n",
       "      <th>Subject</th>\n",
       "      <th>category_id</th>\n",
       "    </tr>\n",
       "  </thead>\n",
       "  <tbody>\n",
       "    <tr>\n",
       "      <td>0</td>\n",
       "      <td>General Clarification</td>\n",
       "      <td>VitalDx log in</td>\n",
       "      <td>0</td>\n",
       "    </tr>\n",
       "    <tr>\n",
       "      <td>1</td>\n",
       "      <td>Incident</td>\n",
       "      <td>Route3-Capstone UTI - LIS Results failure</td>\n",
       "      <td>1</td>\n",
       "    </tr>\n",
       "    <tr>\n",
       "      <td>2</td>\n",
       "      <td>General Clarification</td>\n",
       "      <td>PPMG Claims Purging Details - collect.vitalaxi...</td>\n",
       "      <td>0</td>\n",
       "    </tr>\n",
       "    <tr>\n",
       "      <td>3</td>\n",
       "      <td>General Clarification</td>\n",
       "      <td>Voicemail Message (DDL &gt; VitAxis Support) From...</td>\n",
       "      <td>0</td>\n",
       "    </tr>\n",
       "    <tr>\n",
       "      <td>4</td>\n",
       "      <td>Incident</td>\n",
       "      <td>P4C.VA-IMP.Orders.Inbound.IMP2P4 Failure</td>\n",
       "      <td>1</td>\n",
       "    </tr>\n",
       "    <tr>\n",
       "      <td>5</td>\n",
       "      <td>General Clarification</td>\n",
       "      <td>Build in THX tomorrow</td>\n",
       "      <td>0</td>\n",
       "    </tr>\n",
       "    <tr>\n",
       "      <td>6</td>\n",
       "      <td>Service Request</td>\n",
       "      <td>Troy's Genus3 VitalDx login</td>\n",
       "      <td>2</td>\n",
       "    </tr>\n",
       "    <tr>\n",
       "      <td>7</td>\n",
       "      <td>Incident</td>\n",
       "      <td>Adjust label settings</td>\n",
       "      <td>1</td>\n",
       "    </tr>\n",
       "    <tr>\n",
       "      <td>8</td>\n",
       "      <td>Service Request</td>\n",
       "      <td>P4 Diagnostix - Patient Results</td>\n",
       "      <td>2</td>\n",
       "    </tr>\n",
       "    <tr>\n",
       "      <td>9</td>\n",
       "      <td>Service Request</td>\n",
       "      <td>Capstone - Newly created ordering physicians a...</td>\n",
       "      <td>2</td>\n",
       "    </tr>\n",
       "    <tr>\n",
       "      <td>10</td>\n",
       "      <td>Incident</td>\n",
       "      <td>P4.VA-IUI.Greenway.Results.Outbound Failure</td>\n",
       "      <td>1</td>\n",
       "    </tr>\n",
       "    <tr>\n",
       "      <td>11</td>\n",
       "      <td>Service Request</td>\n",
       "      <td>New Routes and Product Agents for P4 Clinical ...</td>\n",
       "      <td>2</td>\n",
       "    </tr>\n",
       "    <tr>\n",
       "      <td>12</td>\n",
       "      <td>Service Request</td>\n",
       "      <td>Capstone Automation</td>\n",
       "      <td>2</td>\n",
       "    </tr>\n",
       "    <tr>\n",
       "      <td>13</td>\n",
       "      <td>Incident</td>\n",
       "      <td>Cases Not in Interface...Again.</td>\n",
       "      <td>1</td>\n",
       "    </tr>\n",
       "    <tr>\n",
       "      <td>14</td>\n",
       "      <td>General Clarification</td>\n",
       "      <td>Capstone- Auto eligibility check</td>\n",
       "      <td>0</td>\n",
       "    </tr>\n",
       "    <tr>\n",
       "      <td>15</td>\n",
       "      <td>Incident</td>\n",
       "      <td>FWC.Sarapath-FWC.VA-Results.Inbound Unprocessed</td>\n",
       "      <td>1</td>\n",
       "    </tr>\n",
       "    <tr>\n",
       "      <td>16</td>\n",
       "      <td>New Requirement</td>\n",
       "      <td>Ovation Req Import problem</td>\n",
       "      <td>3</td>\n",
       "    </tr>\n",
       "  </tbody>\n",
       "</table>\n",
       "</div>"
      ],
      "text/plain": [
       "          Classifications                                            Subject  \\\n",
       "0   General Clarification                                    VitalDx log in    \n",
       "1                Incident          Route3-Capstone UTI - LIS Results failure   \n",
       "2   General Clarification  PPMG Claims Purging Details - collect.vitalaxi...   \n",
       "3   General Clarification  Voicemail Message (DDL > VitAxis Support) From...   \n",
       "4                Incident           P4C.VA-IMP.Orders.Inbound.IMP2P4 Failure   \n",
       "5   General Clarification                              Build in THX tomorrow   \n",
       "6         Service Request                        Troy's Genus3 VitalDx login   \n",
       "7                Incident                              Adjust label settings   \n",
       "8         Service Request                    P4 Diagnostix - Patient Results   \n",
       "9         Service Request  Capstone - Newly created ordering physicians a...   \n",
       "10               Incident        P4.VA-IUI.Greenway.Results.Outbound Failure   \n",
       "11        Service Request  New Routes and Product Agents for P4 Clinical ...   \n",
       "12        Service Request                                Capstone Automation   \n",
       "13               Incident                    Cases Not in Interface...Again.   \n",
       "14  General Clarification                   Capstone- Auto eligibility check   \n",
       "15               Incident    FWC.Sarapath-FWC.VA-Results.Inbound Unprocessed   \n",
       "16        New Requirement                         Ovation Req Import problem   \n",
       "\n",
       "    category_id  \n",
       "0             0  \n",
       "1             1  \n",
       "2             0  \n",
       "3             0  \n",
       "4             1  \n",
       "5             0  \n",
       "6             2  \n",
       "7             1  \n",
       "8             2  \n",
       "9             2  \n",
       "10            1  \n",
       "11            2  \n",
       "12            2  \n",
       "13            1  \n",
       "14            0  \n",
       "15            1  \n",
       "16            3  "
      ]
     },
     "execution_count": 173,
     "metadata": {},
     "output_type": "execute_result"
    }
   ],
   "source": [
    "df = pd.read_excel('Ticket Samples and Summary.xlsx')\n",
    "\n",
    "#output - classifications\n",
    "#input - subject, ticket description\n",
    "\n",
    "col = ['Classifications', 'Subject']\n",
    "df = df[col]\n",
    "df = df[pd.notnull(df['Classifications'])]\n",
    "df.columns = ['Classifications', 'Subject']\n",
    "df['category_id'] = df['Classifications'].factorize()[0]\n",
    "category_id_df = df[['Classifications', 'category_id']].drop_duplicates().sort_values('category_id')\n",
    "category_to_id = dict(category_id_df.values)\n",
    "id_to_category = dict(category_id_df[['category_id', 'Classifications']].values)\n",
    "df.head(17)\n"
   ]
  },
  {
   "cell_type": "code",
   "execution_count": 174,
   "metadata": {},
   "outputs": [
    {
     "data": {
      "image/png": "[encoded data removed]",
      "text/plain": [
       "<Figure size 432x288 with 1 Axes>"
      ]
     },
     "metadata": {
      "needs_background": "light"
     },
     "output_type": "display_data"
    },
    {
     "data": {
      "text/plain": [
       "Service Request          87\n",
       "New Requirement          82\n",
       "Incident                 77\n",
       "General Clarification    46\n",
       "Name: Classifications, dtype: int64"
      ]
     },
     "execution_count": 174,
     "metadata": {},
     "output_type": "execute_result"
    }
   ],
   "source": [
    "fig = plt.figure()\n",
    "df.groupby('Classifications').Subject.count().plot.bar(ylim=0)\n",
    "plt.show()\n",
    "\n",
    "new_req = df['Classifications'] == 'New Requirement'\n",
    "df_try = df[new_req]\n",
    "df = df.append([df_try]*40, ignore_index = True)\n",
    "\n",
    "df['Classifications'].value_counts()"
   ]
  },
  {
   "cell_type": "code",
   "execution_count": 175,
   "metadata": {},
   "outputs": [
    {
     "data": {
      "text/plain": [
       "General Clarification    92\n",
       "Service Request          87\n",
       "New Requirement          82\n",
       "Incident                 77\n",
       "Name: Classifications, dtype: int64"
      ]
     },
     "execution_count": 175,
     "metadata": {},
     "output_type": "execute_result"
    }
   ],
   "source": [
    "general = df['Classifications'] == 'General Clarification'\n",
    "df_try = df[general]\n",
    "df = df.append([df_try], ignore_index = True)\n",
    "\n",
    "df['Classifications'].value_counts()"
   ]
  },
  {
   "cell_type": "code",
   "execution_count": 176,
   "metadata": {},
   "outputs": [
    {
     "data": {
      "text/plain": [
       "(338, 48)"
      ]
     },
     "execution_count": 176,
     "metadata": {},
     "output_type": "execute_result"
    }
   ],
   "source": [
    "tfidf = TfidfVectorizer(sublinear_tf = True, min_df = 6, norm = 'l2', encoding='utf-8', ngram_range=(1,2), stop_words='english')\n",
    "features = tfidf.fit_transform(df.Subject).toarray()\n",
    "labels = df.category_id\n",
    "features.shape"
   ]
  },
  {
   "cell_type": "code",
   "execution_count": 177,
   "metadata": {},
   "outputs": [
    {
     "name": "stdout",
     "output_type": "stream",
     "text": [
      "# 'General Clarification':\n",
      "  . Most correlated unigrams:\n",
      ". print\n",
      ".issue\n",
      "  . Most correlated bigrams:\n",
      ". print report\n",
      ".auto print\n",
      "# 'Incident':\n",
      "  . Most correlated unigrams:\n",
      ". inbound\n",
      ".failure\n",
      "  . Most correlated bigrams:\n",
      ". inbound failure\n",
      ".outbound failure\n",
      "# 'New Requirement':\n",
      "  . Most correlated unigrams:\n",
      ". auto\n",
      ".print\n",
      "  . Most correlated bigrams:\n",
      ". print report\n",
      ".auto print\n",
      "# 'Service Request':\n",
      "  . Most correlated unigrams:\n",
      ". reset\n",
      ".password\n",
      "  . Most correlated bigrams:\n",
      ". print report\n",
      ".password reset\n"
     ]
    }
   ],
   "source": [
    "N = 2\n",
    "for Classifications, category_id in sorted(category_to_id.items()):\n",
    "    features_chi2 = chi2(features, labels == category_id)\n",
    "    indices = np.argsort(features_chi2[0])\n",
    "    feature_names = np.array(tfidf.get_feature_names())[indices]\n",
    "    unigrams = [v for v in feature_names if len(v.split(' ')) == 1]\n",
    "    bigrams = [v for v in feature_names if len(v.split(' ')) == 2]\n",
    "    print(\"# '{}':\".format(Classifications))\n",
    "    print(\"  . Most correlated unigrams:\\n. {}\".format('\\n.'.join(unigrams[-N:])))\n",
    "    print(\"  . Most correlated bigrams:\\n. {}\".format('\\n.'.join(bigrams[-N:])))\n",
    "    "
   ]
  },
  {
   "cell_type": "code",
   "execution_count": 178,
   "metadata": {},
   "outputs": [],
   "source": [
    "from sklearn.model_selection import train_test_split\n",
    "from sklearn.feature_extraction.text import CountVectorizer\n",
    "from sklearn.feature_extraction.text import TfidfTransformer\n",
    "from sklearn.naive_bayes import MultinomialNB\n",
    "X_train, X_test, y_train, y_test = train_test_split(df['Subject'], df['Classifications'], random_state = 0)\n",
    "count_vect = CountVectorizer()\n",
    "X_train_counts = count_vect.fit_transform(X_train)\n",
    "tfidf_transformer = TfidfTransformer()\n",
    "X_train_tfidf = tfidf_transformer.fit_transform(X_train_counts)\n",
    "clf = MultinomialNB().fit(X_train_tfidf, y_train)"
   ]
  },
  {
   "cell_type": "code",
   "execution_count": 179,
   "metadata": {},
   "outputs": [
    {
     "name": "stdout",
     "output_type": "stream",
     "text": [
      "['Incident']\n"
     ]
    }
   ],
   "source": [
    "print(clf.predict(count_vect.transform([\"Getting file is corrupt message \"])))"
   ]
  },
  {
   "cell_type": "code",
   "execution_count": 180,
   "metadata": {},
   "outputs": [
    {
     "name": "stderr",
     "output_type": "stream",
     "text": [
      "C:\\Users\\Nitya\\Anaconda3\\lib\\site-packages\\sklearn\\linear_model\\logistic.py:432: FutureWarning: Default solver will be changed to 'lbfgs' in 0.22. Specify a solver to silence this warning.\n",
      "  FutureWarning)\n",
      "C:\\Users\\Nitya\\Anaconda3\\lib\\site-packages\\sklearn\\linear_model\\logistic.py:469: FutureWarning: Default multi_class will be changed to 'auto' in 0.22. Specify the multi_class option to silence this warning.\n",
      "  \"this warning.\", FutureWarning)\n",
      "C:\\Users\\Nitya\\Anaconda3\\lib\\site-packages\\sklearn\\linear_model\\logistic.py:432: FutureWarning: Default solver will be changed to 'lbfgs' in 0.22. Specify a solver to silence this warning.\n",
      "  FutureWarning)\n",
      "C:\\Users\\Nitya\\Anaconda3\\lib\\site-packages\\sklearn\\linear_model\\logistic.py:469: FutureWarning: Default multi_class will be changed to 'auto' in 0.22. Specify the multi_class option to silence this warning.\n",
      "  \"this warning.\", FutureWarning)\n",
      "C:\\Users\\Nitya\\Anaconda3\\lib\\site-packages\\sklearn\\linear_model\\logistic.py:432: FutureWarning: Default solver will be changed to 'lbfgs' in 0.22. Specify a solver to silence this warning.\n",
      "  FutureWarning)\n",
      "C:\\Users\\Nitya\\Anaconda3\\lib\\site-packages\\sklearn\\linear_model\\logistic.py:469: FutureWarning: Default multi_class will be changed to 'auto' in 0.22. Specify the multi_class option to silence this warning.\n",
      "  \"this warning.\", FutureWarning)\n",
      "C:\\Users\\Nitya\\Anaconda3\\lib\\site-packages\\sklearn\\linear_model\\logistic.py:432: FutureWarning: Default solver will be changed to 'lbfgs' in 0.22. Specify a solver to silence this warning.\n",
      "  FutureWarning)\n",
      "C:\\Users\\Nitya\\Anaconda3\\lib\\site-packages\\sklearn\\linear_model\\logistic.py:469: FutureWarning: Default multi_class will be changed to 'auto' in 0.22. Specify the multi_class option to silence this warning.\n",
      "  \"this warning.\", FutureWarning)\n",
      "C:\\Users\\Nitya\\Anaconda3\\lib\\site-packages\\sklearn\\linear_model\\logistic.py:432: FutureWarning: Default solver will be changed to 'lbfgs' in 0.22. Specify a solver to silence this warning.\n",
      "  FutureWarning)\n",
      "C:\\Users\\Nitya\\Anaconda3\\lib\\site-packages\\sklearn\\linear_model\\logistic.py:469: FutureWarning: Default multi_class will be changed to 'auto' in 0.22. Specify the multi_class option to silence this warning.\n",
      "  \"this warning.\", FutureWarning)\n"
     ]
    },
    {
     "data": {
      "image/png": "[encoded data removed]",
      "text/plain": [
       "<Figure size 432x288 with 1 Axes>"
      ]
     },
     "metadata": {
      "needs_background": "light"
     },
     "output_type": "display_data"
    }
   ],
   "source": [
    "from sklearn.linear_model import LogisticRegression\n",
    "from sklearn.ensemble import RandomForestClassifier\n",
    "from sklearn.svm import LinearSVC\n",
    "from sklearn.model_selection import cross_val_score\n",
    "models = [\n",
    "    RandomForestClassifier(n_estimators=200, max_depth=3, random_state=0),\n",
    "    LinearSVC(),\n",
    "    MultinomialNB(),\n",
    "    LogisticRegression(random_state=0),\n",
    "]\n",
    "CV = 5\n",
    "cv_df = pd.DataFrame(index=range(CV * len(models)))\n",
    "entries = []\n",
    "for model in models:\n",
    "  model_name = model.__class__.__name__\n",
    "  accuracies = cross_val_score(model, features, labels, scoring='accuracy', cv=CV)\n",
    "  for fold_idx, accuracy in enumerate(accuracies):\n",
    "    entries.append((model_name, fold_idx, accuracy))\n",
    "cv_df = pd.DataFrame(entries, columns=['model_name', 'fold_idx', 'accuracy'])\n",
    "import seaborn as sns\n",
    "sns.boxplot(x='model_name', y='accuracy', data=cv_df)\n",
    "sns.stripplot(x='model_name', y='accuracy', data=cv_df, \n",
    "              size=8, jitter=True, edgecolor=\"gray\", linewidth=2)\n",
    "plt.show()\n"
   ]
  },
  {
   "cell_type": "code",
   "execution_count": 181,
   "metadata": {},
   "outputs": [
    {
     "data": {
      "text/plain": [
       "model_name\n",
       "LinearSVC                 0.615411\n",
       "LogisticRegression        0.659481\n",
       "MultinomialNB             0.650563\n",
       "RandomForestClassifier    0.635411\n",
       "Name: accuracy, dtype: float64"
      ]
     },
     "execution_count": 181,
     "metadata": {},
     "output_type": "execute_result"
    }
   ],
   "source": [
    "cv_df.groupby('model_name').accuracy.mean()"
   ]
  },
  {
   "cell_type": "code",
   "execution_count": 182,
   "metadata": {},
   "outputs": [
    {
     "data": {
      "image/png": "[encoded data removed]",
      "text/plain": [
       "<Figure size 720x720 with 2 Axes>"
      ]
     },
     "metadata": {
      "needs_background": "light"
     },
     "output_type": "display_data"
    }
   ],
   "source": [
    "model = LinearSVC()\n",
    "X_train, X_test, y_train, y_test, indices_train, indices_test = train_test_split(features, labels, df.index, test_size=0.33, random_state=0)\n",
    "model.fit(X_train, y_train)\n",
    "y_pred = model.predict(X_test)\n",
    "from sklearn.metrics import confusion_matrix\n",
    "conf_mat = confusion_matrix(y_test, y_pred)\n",
    "fig, ax = plt.subplots(figsize=(10,10))\n",
    "sns.heatmap(conf_mat, annot=True, fmt='d',\n",
    "            xticklabels=category_id_df.Classifications.values, yticklabels=category_id_df.Classifications.values)\n",
    "plt.ylabel('Actual')\n",
    "plt.xlabel('Predicted')\n",
    "plt.show()"
   ]
  },
  {
   "cell_type": "code",
   "execution_count": 183,
   "metadata": {},
   "outputs": [
    {
     "name": "stdout",
     "output_type": "stream",
     "text": [
      "'Incident' predicted as 'General Clarification' : 12 examples.\n"
     ]
    },
    {
     "data": {
      "text/html": [
       "<div>\n",
       "<style scoped>\n",
       "    .dataframe tbody tr th:only-of-type {\n",
       "        vertical-align: middle;\n",
       "    }\n",
       "\n",
       "    .dataframe tbody tr th {\n",
       "        vertical-align: top;\n",
       "    }\n",
       "\n",
       "    .dataframe thead th {\n",
       "        text-align: right;\n",
       "    }\n",
       "</style>\n",
       "<table border=\"1\" class=\"dataframe\">\n",
       "  <thead>\n",
       "    <tr style=\"text-align: right;\">\n",
       "      <th></th>\n",
       "      <th>Classifications</th>\n",
       "      <th>Subject</th>\n",
       "    </tr>\n",
       "  </thead>\n",
       "  <tbody>\n",
       "    <tr>\n",
       "      <td>158</td>\n",
       "      <td>Incident</td>\n",
       "      <td>VCDFT failures ( MESSAGE AUDIT FAILED )</td>\n",
       "    </tr>\n",
       "    <tr>\n",
       "      <td>200</td>\n",
       "      <td>Incident</td>\n",
       "      <td>Reports with no data</td>\n",
       "    </tr>\n",
       "    <tr>\n",
       "      <td>54</td>\n",
       "      <td>Incident</td>\n",
       "      <td>Screening type is wrong - SEV 1 - FWC</td>\n",
       "    </tr>\n",
       "    <tr>\n",
       "      <td>167</td>\n",
       "      <td>Incident</td>\n",
       "      <td>Thunderbolt COVID testing</td>\n",
       "    </tr>\n",
       "    <tr>\n",
       "      <td>78</td>\n",
       "      <td>Incident</td>\n",
       "      <td>REPORTING ISSUE</td>\n",
       "    </tr>\n",
       "    <tr>\n",
       "      <td>135</td>\n",
       "      <td>Incident</td>\n",
       "      <td>Issues with assigning accession # to NJU eOrdres</td>\n",
       "    </tr>\n",
       "    <tr>\n",
       "      <td>136</td>\n",
       "      <td>Incident</td>\n",
       "      <td>Issues with assigning accession # to NJU eOrdres</td>\n",
       "    </tr>\n",
       "    <tr>\n",
       "      <td>7</td>\n",
       "      <td>Incident</td>\n",
       "      <td>Adjust label settings</td>\n",
       "    </tr>\n",
       "    <tr>\n",
       "      <td>122</td>\n",
       "      <td>Incident</td>\n",
       "      <td>(No Subject)</td>\n",
       "    </tr>\n",
       "    <tr>\n",
       "      <td>102</td>\n",
       "      <td>Incident</td>\n",
       "      <td>Error while attempting to order in a new acct</td>\n",
       "    </tr>\n",
       "    <tr>\n",
       "      <td>33</td>\n",
       "      <td>Incident</td>\n",
       "      <td>Voicemail Message (PREMIER UROLOGY &gt; VitAxis S...</td>\n",
       "    </tr>\n",
       "    <tr>\n",
       "      <td>166</td>\n",
       "      <td>Incident</td>\n",
       "      <td>VitalAxis froze on all workstations</td>\n",
       "    </tr>\n",
       "  </tbody>\n",
       "</table>\n",
       "</div>"
      ],
      "text/plain": [
       "    Classifications                                            Subject\n",
       "158        Incident            VCDFT failures ( MESSAGE AUDIT FAILED )\n",
       "200        Incident                               Reports with no data\n",
       "54         Incident              Screening type is wrong - SEV 1 - FWC\n",
       "167        Incident                          Thunderbolt COVID testing\n",
       "78         Incident                                    REPORTING ISSUE\n",
       "135        Incident   Issues with assigning accession # to NJU eOrdres\n",
       "136        Incident   Issues with assigning accession # to NJU eOrdres\n",
       "7          Incident                              Adjust label settings\n",
       "122        Incident                                       (No Subject)\n",
       "102        Incident      Error while attempting to order in a new acct\n",
       "33         Incident  Voicemail Message (PREMIER UROLOGY > VitAxis S...\n",
       "166        Incident                VitalAxis froze on all workstations"
      ]
     },
     "metadata": {},
     "output_type": "display_data"
    },
    {
     "name": "stdout",
     "output_type": "stream",
     "text": [
      "\n",
      "'Service Request' predicted as 'General Clarification' : 17 examples.\n"
     ]
    },
    {
     "data": {
      "text/html": [
       "<div>\n",
       "<style scoped>\n",
       "    .dataframe tbody tr th:only-of-type {\n",
       "        vertical-align: middle;\n",
       "    }\n",
       "\n",
       "    .dataframe tbody tr th {\n",
       "        vertical-align: top;\n",
       "    }\n",
       "\n",
       "    .dataframe thead th {\n",
       "        text-align: right;\n",
       "    }\n",
       "</style>\n",
       "<table border=\"1\" class=\"dataframe\">\n",
       "  <thead>\n",
       "    <tr style=\"text-align: right;\">\n",
       "      <th></th>\n",
       "      <th>Classifications</th>\n",
       "      <th>Subject</th>\n",
       "    </tr>\n",
       "  </thead>\n",
       "  <tbody>\n",
       "    <tr>\n",
       "      <td>64</td>\n",
       "      <td>Service Request</td>\n",
       "      <td>Product Backlog Item 18490: Display Received D...</td>\n",
       "    </tr>\n",
       "    <tr>\n",
       "      <td>198</td>\n",
       "      <td>Service Request</td>\n",
       "      <td>Urgent</td>\n",
       "    </tr>\n",
       "    <tr>\n",
       "      <td>59</td>\n",
       "      <td>Service Request</td>\n",
       "      <td>L2L result failures</td>\n",
       "    </tr>\n",
       "    <tr>\n",
       "      <td>26</td>\n",
       "      <td>Service Request</td>\n",
       "      <td>Unlock login id</td>\n",
       "    </tr>\n",
       "    <tr>\n",
       "      <td>173</td>\n",
       "      <td>Service Request</td>\n",
       "      <td>xxxxxx - accession #</td>\n",
       "    </tr>\n",
       "    <tr>\n",
       "      <td>63</td>\n",
       "      <td>Service Request</td>\n",
       "      <td>VC Slow</td>\n",
       "    </tr>\n",
       "    <tr>\n",
       "      <td>179</td>\n",
       "      <td>Service Request</td>\n",
       "      <td>Pittsburgh Gastro Associates - VitalDesktop er...</td>\n",
       "    </tr>\n",
       "    <tr>\n",
       "      <td>171</td>\n",
       "      <td>Service Request</td>\n",
       "      <td>Dr. Trenkle</td>\n",
       "    </tr>\n",
       "    <tr>\n",
       "      <td>92</td>\n",
       "      <td>Service Request</td>\n",
       "      <td>Digestive Disease Associates</td>\n",
       "    </tr>\n",
       "    <tr>\n",
       "      <td>49</td>\n",
       "      <td>Service Request</td>\n",
       "      <td>Delete Accession</td>\n",
       "    </tr>\n",
       "    <tr>\n",
       "      <td>181</td>\n",
       "      <td>Service Request</td>\n",
       "      <td>Unable to login</td>\n",
       "    </tr>\n",
       "    <tr>\n",
       "      <td>6</td>\n",
       "      <td>Service Request</td>\n",
       "      <td>Troy's Genus3 VitalDx login</td>\n",
       "    </tr>\n",
       "    <tr>\n",
       "      <td>17</td>\n",
       "      <td>Service Request</td>\n",
       "      <td>DISCOUNT/WRITE OFF CAPABILITY</td>\n",
       "    </tr>\n",
       "    <tr>\n",
       "      <td>204</td>\n",
       "      <td>Service Request</td>\n",
       "      <td>Promenade Chestnut Ridge Order cross over Failure</td>\n",
       "    </tr>\n",
       "    <tr>\n",
       "      <td>100</td>\n",
       "      <td>Service Request</td>\n",
       "      <td>JA_KEYSTONE UROLOGY SPECIALIST_Theranoxtix Inc...</td>\n",
       "    </tr>\n",
       "    <tr>\n",
       "      <td>142</td>\n",
       "      <td>Service Request</td>\n",
       "      <td>UNSAT Correlation Report - FWC</td>\n",
       "    </tr>\n",
       "    <tr>\n",
       "      <td>120</td>\n",
       "      <td>Service Request</td>\n",
       "      <td>LIS through IOS</td>\n",
       "    </tr>\n",
       "  </tbody>\n",
       "</table>\n",
       "</div>"
      ],
      "text/plain": [
       "     Classifications                                            Subject\n",
       "64   Service Request  Product Backlog Item 18490: Display Received D...\n",
       "198  Service Request                                            Urgent \n",
       "59   Service Request                                L2L result failures\n",
       "26   Service Request                                    Unlock login id\n",
       "173  Service Request                               xxxxxx - accession #\n",
       "63   Service Request                                            VC Slow\n",
       "179  Service Request  Pittsburgh Gastro Associates - VitalDesktop er...\n",
       "171  Service Request                                        Dr. Trenkle\n",
       "92   Service Request                       Digestive Disease Associates\n",
       "49   Service Request                                   Delete Accession\n",
       "181  Service Request                                    Unable to login\n",
       "6    Service Request                        Troy's Genus3 VitalDx login\n",
       "17   Service Request                      DISCOUNT/WRITE OFF CAPABILITY\n",
       "204  Service Request  Promenade Chestnut Ridge Order cross over Failure\n",
       "100  Service Request  JA_KEYSTONE UROLOGY SPECIALIST_Theranoxtix Inc...\n",
       "142  Service Request                     UNSAT Correlation Report - FWC\n",
       "120  Service Request                                    LIS through IOS"
      ]
     },
     "metadata": {},
     "output_type": "display_data"
    },
    {
     "name": "stdout",
     "output_type": "stream",
     "text": [
      "\n"
     ]
    }
   ],
   "source": [
    "from IPython.display import display\n",
    "for predicted in category_id_df.category_id:\n",
    "  for actual in category_id_df.category_id:\n",
    "    if predicted != actual and conf_mat[actual, predicted] >= 10:\n",
    "      print(\"'{}' predicted as '{}' : {} examples.\".format(id_to_category[actual], id_to_category[predicted], conf_mat[actual, predicted]))\n",
    "      display(df.loc[indices_test[(y_test == actual) & (y_pred == predicted)]][['Classifications', 'Subject']])\n",
    "      print('')"
   ]
  },
  {
   "cell_type": "code",
   "execution_count": 184,
   "metadata": {},
   "outputs": [
    {
     "name": "stdout",
     "output_type": "stream",
     "text": [
      "# 'General Clarification':\n",
      "  . Top unigrams:\n",
      "       . auto\n",
      "       . issue\n",
      "  . Top bigrams:\n",
      "       . voicemail message\n",
      "       . vitaxis support\n",
      "# 'Incident':\n",
      "  . Top unigrams:\n",
      "       . problem\n",
      "       . failure\n",
      "  . Top bigrams:\n",
      "       . results outbound\n",
      "       . outbound failure\n",
      "# 'New Requirement':\n",
      "  . Top unigrams:\n",
      "       . print\n",
      "       . req\n",
      "  . Top bigrams:\n",
      "       . print report\n",
      "       . auto print\n",
      "# 'Service Request':\n",
      "  . Top unigrams:\n",
      "       . password\n",
      "       . 05\n",
      "  . Top bigrams:\n",
      "       . password reset\n",
      "       . voicemail message\n"
     ]
    }
   ],
   "source": [
    "model.fit(features, labels)\n",
    "N = 2\n",
    "for Classifications, category_id in sorted(category_to_id.items()):\n",
    "  indices = np.argsort(model.coef_[category_id])\n",
    "  feature_names = np.array(tfidf.get_feature_names())[indices]\n",
    "  unigrams = [v for v in reversed(feature_names) if len(v.split(' ')) == 1][:N]\n",
    "  bigrams = [v for v in reversed(feature_names) if len(v.split(' ')) == 2][:N]\n",
    "  print(\"# '{}':\".format(Classifications))\n",
    "  print(\"  . Top unigrams:\\n       . {}\".format('\\n       . '.join(unigrams)))\n",
    "  print(\"  . Top bigrams:\\n       . {}\".format('\\n       . '.join(bigrams)))"
   ]
  },
  {
   "cell_type": "code",
   "execution_count": 185,
   "metadata": {},
   "outputs": [
    {
     "name": "stdout",
     "output_type": "stream",
     "text": [
      "                       precision    recall  f1-score   support\n",
      "\n",
      "General Clarification       0.38      0.82      0.52        22\n",
      "             Incident       0.88      0.48      0.62        29\n",
      "      Service Request       0.71      0.41      0.52        29\n",
      "      New Requirement       1.00      1.00      1.00        32\n",
      "\n",
      "             accuracy                           0.68       112\n",
      "            macro avg       0.74      0.68      0.67       112\n",
      "         weighted avg       0.77      0.68      0.68       112\n",
      "\n"
     ]
    }
   ],
   "source": [
    "from sklearn import metrics\n",
    "print(metrics.classification_report(y_test, y_pred, target_names=df['Classifications'].unique()))"
   ]
  },
  {
   "cell_type": "code",
   "execution_count": null,
   "metadata": {},
   "outputs": [],
   "source": []
  },
  {
   "cell_type": "code",
   "execution_count": null,
   "metadata": {},
   "outputs": [],
   "source": []
  }
 ],
 "metadata": {
  "kernelspec": {
   "display_name": "Python 3",
   "language": "python",
   "name": "python3"
  },
  "language_info": {
   "codemirror_mode": {
    "name": "ipython",
    "version": 3
   },
   "file_extension": ".py",
   "mimetype": "text/x-python",
   "name": "python",
   "nbconvert_exporter": "python",
   "pygments_lexer": "ipython3",
   "version": "3.7.4"
  }
 },
 "nbformat": 4,
 "nbformat_minor": 2
}
